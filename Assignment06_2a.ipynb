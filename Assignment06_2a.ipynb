{
 "cells": [
  {
   "cell_type": "code",
   "execution_count": 1,
   "metadata": {},
   "outputs": [],
   "source": [
    "#\n",
    "# File: Assignment06_2a.py\n",
    "# Name: Christopher M. Anderson\n",
    "# Date: 10/11/2020\n",
    "# Course: DSC650 Big Data\n",
    "# Week: 6\n",
    "# Assignment Number: 6.2a\n",
    "\n",
    "# Using section 5.2 in Deep Learning with Python\n",
    "# as a guide, create a ConvNet model that classifies\n",
    "# images CIFAR10 small images classification dataset.\n",
    "# Do not use dropout or data-augmentation in this part.\n",
    "# Save the model, predictions, metrics, and validation\n",
    "# plots in the dsc650/assignments/assignment06/results\n",
    "# directory. If you are using JupyterHub, you can\n",
    "# include those plots in your Jupyter notebook."
   ]
  },
  {
   "cell_type": "code",
   "execution_count": 2,
   "metadata": {},
   "outputs": [],
   "source": [
    "from tensorflow.keras.datasets import cifar10\n",
    "from tensorflow.keras.models import Sequential\n",
    "from tensorflow.keras.layers import Dense, Flatten, Conv2D, MaxPooling2D\n",
    "from tensorflow.keras.losses import sparse_categorical_crossentropy\n",
    "from tensorflow.keras.optimizers import Adam\n",
    "import matplotlib.pyplot as plt"
   ]
  },
  {
   "cell_type": "code",
   "execution_count": 3,
   "metadata": {},
   "outputs": [
    {
     "name": "stdout",
     "output_type": "stream",
     "text": [
      "Downloading data from https://www.cs.toronto.edu/~kriz/cifar-10-python.tar.gz\n",
      "170500096/170498071 [==============================] - 15s 0us/step\n"
     ]
    }
   ],
   "source": [
    "# ----------| USING CONVNET WITH CIFAR10 DATASET |----------\n",
    "\n",
    "\n",
    "# Load CIFAR-10 data\n",
    "(input_train, target_train), (input_test, target_test) = cifar10.load_data()"
   ]
  },
  {
   "cell_type": "code",
   "execution_count": 4,
   "metadata": {},
   "outputs": [],
   "source": [
    "# Model configuration\n",
    "batch_size = 50\n",
    "img_width, img_height, img_num_channels = 32, 32, 3\n",
    "loss_function = sparse_categorical_crossentropy\n",
    "no_classes = 10\n",
    "no_epochs = 30\n",
    "optimizer = Adam()\n",
    "validation_split = 0.2\n",
    "verbosity = 1"
   ]
  },
  {
   "cell_type": "code",
   "execution_count": 5,
   "metadata": {},
   "outputs": [],
   "source": [
    "# Determine shape of the data\n",
    "input_shape = (img_width, img_height, img_num_channels)"
   ]
  },
  {
   "cell_type": "code",
   "execution_count": 6,
   "metadata": {},
   "outputs": [],
   "source": [
    "# Parse numbers as floats\n",
    "input_train = input_train.astype('float32')\n",
    "input_test = input_test.astype('float32')"
   ]
  },
  {
   "cell_type": "code",
   "execution_count": 7,
   "metadata": {},
   "outputs": [],
   "source": [
    "# Normalize data\n",
    "input_train = input_train / 255\n",
    "input_test = input_test / 255"
   ]
  },
  {
   "cell_type": "code",
   "execution_count": 8,
   "metadata": {},
   "outputs": [],
   "source": [
    "# Create the model\n",
    "model = Sequential()\n",
    "model.add(Conv2D(32, kernel_size=(3, 3), activation='relu', input_shape=input_shape))\n",
    "model.add(MaxPooling2D(pool_size=(2, 2)))\n",
    "model.add(Conv2D(64, kernel_size=(3, 3), activation='relu'))\n",
    "model.add(MaxPooling2D(pool_size=(2, 2)))\n",
    "model.add(Conv2D(128, kernel_size=(3, 3), activation='relu'))\n",
    "model.add(MaxPooling2D(pool_size=(2, 2)))\n",
    "model.add(Flatten())\n",
    "model.add(Dense(256, activation='relu'))\n",
    "model.add(Dense(128, activation='relu'))\n",
    "model.add(Dense(no_classes, activation='softmax'))"
   ]
  },
  {
   "cell_type": "code",
   "execution_count": 9,
   "metadata": {},
   "outputs": [],
   "source": [
    "# Compile the model\n",
    "model.compile(loss=loss_function,\n",
    "              optimizer=optimizer,\n",
    "              metrics=['accuracy'])"
   ]
  },
  {
   "cell_type": "code",
   "execution_count": 10,
   "metadata": {},
   "outputs": [
    {
     "name": "stdout",
     "output_type": "stream",
     "text": [
      "Epoch 1/30\n",
      "800/800 [==============================] - 15s 18ms/step - loss: 1.5712 - accuracy: 0.4203 - val_loss: 1.3027 - val_accuracy: 0.5295\n",
      "Epoch 2/30\n",
      "800/800 [==============================] - 14s 17ms/step - loss: 1.1605 - accuracy: 0.5846 - val_loss: 1.0698 - val_accuracy: 0.6267\n",
      "Epoch 3/30\n",
      "800/800 [==============================] - 14s 17ms/step - loss: 0.9855 - accuracy: 0.6539 - val_loss: 1.0195 - val_accuracy: 0.6435\n",
      "Epoch 4/30\n",
      "800/800 [==============================] - 14s 17ms/step - loss: 0.8647 - accuracy: 0.6957 - val_loss: 0.9605 - val_accuracy: 0.6716\n",
      "Epoch 5/30\n",
      "800/800 [==============================] - 14s 17ms/step - loss: 0.7680 - accuracy: 0.7287 - val_loss: 0.9021 - val_accuracy: 0.6913\n",
      "Epoch 6/30\n",
      "800/800 [==============================] - 14s 17ms/step - loss: 0.6860 - accuracy: 0.7597 - val_loss: 0.8449 - val_accuracy: 0.7123\n",
      "Epoch 7/30\n",
      "800/800 [==============================] - 14s 17ms/step - loss: 0.6153 - accuracy: 0.7846 - val_loss: 0.8999 - val_accuracy: 0.7024\n",
      "Epoch 8/30\n",
      "800/800 [==============================] - 14s 17ms/step - loss: 0.5434 - accuracy: 0.8114 - val_loss: 0.8862 - val_accuracy: 0.7119\n",
      "Epoch 9/30\n",
      "800/800 [==============================] - 14s 17ms/step - loss: 0.4877 - accuracy: 0.8289 - val_loss: 0.9264 - val_accuracy: 0.7151\n",
      "Epoch 10/30\n",
      "800/800 [==============================] - 14s 17ms/step - loss: 0.4308 - accuracy: 0.8483 - val_loss: 0.9254 - val_accuracy: 0.7156\n",
      "Epoch 11/30\n",
      "800/800 [==============================] - 14s 17ms/step - loss: 0.3756 - accuracy: 0.8665 - val_loss: 0.9995 - val_accuracy: 0.7122\n",
      "Epoch 12/30\n",
      "800/800 [==============================] - 14s 17ms/step - loss: 0.3308 - accuracy: 0.8819 - val_loss: 1.0489 - val_accuracy: 0.7152\n",
      "Epoch 13/30\n",
      "800/800 [==============================] - 14s 17ms/step - loss: 0.2871 - accuracy: 0.8986 - val_loss: 1.0667 - val_accuracy: 0.7179\n",
      "Epoch 14/30\n",
      "800/800 [==============================] - 14s 17ms/step - loss: 0.2545 - accuracy: 0.9094 - val_loss: 1.1138 - val_accuracy: 0.7207\n",
      "Epoch 15/30\n",
      "800/800 [==============================] - 14s 17ms/step - loss: 0.2300 - accuracy: 0.9188 - val_loss: 1.2087 - val_accuracy: 0.7176\n",
      "Epoch 16/30\n",
      "800/800 [==============================] - 14s 17ms/step - loss: 0.2090 - accuracy: 0.9252 - val_loss: 1.3592 - val_accuracy: 0.7044\n",
      "Epoch 17/30\n",
      "800/800 [==============================] - 14s 17ms/step - loss: 0.1854 - accuracy: 0.9343 - val_loss: 1.3138 - val_accuracy: 0.7170\n",
      "Epoch 18/30\n",
      "800/800 [==============================] - 14s 17ms/step - loss: 0.1641 - accuracy: 0.9422 - val_loss: 1.5280 - val_accuracy: 0.7019\n",
      "Epoch 19/30\n",
      "800/800 [==============================] - 14s 17ms/step - loss: 0.1563 - accuracy: 0.9450 - val_loss: 1.4560 - val_accuracy: 0.7135\n",
      "Epoch 20/30\n",
      "800/800 [==============================] - 14s 17ms/step - loss: 0.1441 - accuracy: 0.9487 - val_loss: 1.5479 - val_accuracy: 0.7045\n",
      "Epoch 21/30\n",
      "800/800 [==============================] - 14s 17ms/step - loss: 0.1374 - accuracy: 0.9509 - val_loss: 1.5317 - val_accuracy: 0.7110\n",
      "Epoch 22/30\n",
      "800/800 [==============================] - 14s 17ms/step - loss: 0.1379 - accuracy: 0.9508 - val_loss: 1.5911 - val_accuracy: 0.7065\n",
      "Epoch 23/30\n",
      "800/800 [==============================] - 14s 17ms/step - loss: 0.1265 - accuracy: 0.9549 - val_loss: 1.7315 - val_accuracy: 0.7030\n",
      "Epoch 24/30\n",
      "800/800 [==============================] - 14s 17ms/step - loss: 0.1271 - accuracy: 0.9553 - val_loss: 1.6535 - val_accuracy: 0.7046\n",
      "Epoch 25/30\n",
      "800/800 [==============================] - 14s 17ms/step - loss: 0.1042 - accuracy: 0.9633 - val_loss: 1.7402 - val_accuracy: 0.7082\n",
      "Epoch 26/30\n",
      "800/800 [==============================] - 14s 17ms/step - loss: 0.1036 - accuracy: 0.9639 - val_loss: 1.8698 - val_accuracy: 0.7034\n",
      "Epoch 27/30\n",
      "800/800 [==============================] - 14s 17ms/step - loss: 0.1153 - accuracy: 0.9605 - val_loss: 1.8689 - val_accuracy: 0.7053\n",
      "Epoch 28/30\n",
      "800/800 [==============================] - 14s 17ms/step - loss: 0.1072 - accuracy: 0.9637 - val_loss: 1.8236 - val_accuracy: 0.6977\n",
      "Epoch 29/30\n",
      "800/800 [==============================] - 14s 17ms/step - loss: 0.0904 - accuracy: 0.9685 - val_loss: 1.8862 - val_accuracy: 0.7082\n",
      "Epoch 30/30\n",
      "800/800 [==============================] - 14s 17ms/step - loss: 0.1102 - accuracy: 0.9622 - val_loss: 1.9050 - val_accuracy: 0.7055\n"
     ]
    }
   ],
   "source": [
    "# Fit data to model\n",
    "history = model.fit(input_train, target_train,\n",
    "            batch_size=batch_size,\n",
    "            epochs=no_epochs,\n",
    "            verbose=verbosity,\n",
    "            validation_split=validation_split)"
   ]
  },
  {
   "cell_type": "code",
   "execution_count": 11,
   "metadata": {},
   "outputs": [
    {
     "name": "stdout",
     "output_type": "stream",
     "text": [
      "Test loss: 1.9624091386795044 / Test accuracy: 0.6998999714851379\n"
     ]
    }
   ],
   "source": [
    "# Generate generalization metrics\n",
    "score = model.evaluate(input_test, target_test, verbose=0)\n",
    "print(f'Test loss: {score[0]} / Test accuracy: {score[1]}')"
   ]
  },
  {
   "cell_type": "code",
   "execution_count": 14,
   "metadata": {},
   "outputs": [
    {
     "data": {
      "image/png": "[encoded data removed]",
      "text/plain": [
       "<Figure size 432x288 with 1 Axes>"
      ]
     },
     "metadata": {
      "needs_background": "light"
     },
     "output_type": "display_data"
    }
   ],
   "source": [
    "# plot accuracy\n",
    "plt.title('Training and Validation Accuracy')\n",
    "plt.plot(history.history['accuracy'], color='blue', label='Training accuracy')\n",
    "plt.plot(history.history['val_accuracy'], color='orange', label='Validation accuracy')\n",
    "plt.legend()\n",
    "plt.show()"
   ]
  },
  {
   "cell_type": "code",
   "execution_count": 15,
   "metadata": {},
   "outputs": [
    {
     "data": {
      "image/png": "[encoded data removed]",
      "text/plain": [
       "<Figure size 432x288 with 1 Axes>"
      ]
     },
     "metadata": {
      "needs_background": "light"
     },
     "output_type": "display_data"
    }
   ],
   "source": [
    "# plot loss\n",
    "plt.title('Training and Validation Loss')\n",
    "plt.plot(history.history['loss'], color='blue', label='Training loss')\n",
    "plt.plot(history.history['val_loss'], color='orange', label='Validation loss')\n",
    "plt.legend()\n",
    "plt.show()"
   ]
  },
  {
   "cell_type": "code",
   "execution_count": null,
   "metadata": {},
   "outputs": [],
   "source": []
  }
 ],
 "metadata": {
  "kernelspec": {
   "display_name": "Python 3",
   "language": "python",
   "name": "python3"
  },
  "language_info": {
   "codemirror_mode": {
    "name": "ipython",
    "version": 3
   },
   "file_extension": ".py",
   "mimetype": "text/x-python",
   "name": "python",
   "nbconvert_exporter": "python",
   "pygments_lexer": "ipython3",
   "version": "3.8.3"
  }
 },
 "nbformat": 4,
 "nbformat_minor": 4
}
