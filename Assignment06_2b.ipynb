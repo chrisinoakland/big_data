{
 "cells": [
  {
   "cell_type": "code",
   "execution_count": 1,
   "metadata": {},
   "outputs": [],
   "source": [
    "#\n",
    "# File: Assignment06_2b.py\n",
    "# Name: Christopher M. Anderson\n",
    "# Date: 10/11/2020\n",
    "# Course: DSC650 Big Data\n",
    "# Week: 6\n",
    "# Assignment Number: 6.2b\n",
    "\n",
    "# Using section 5.2 in Deep Learning with Python\n",
    "# as a guide, create a ConvNet model that classifies\n",
    "# images CIFAR10 small images classification dataset.\n",
    "# This time includes dropout and data-augmentation.\n",
    "# Save the model, predictions, metrics, and validation\n",
    "# plots in the dsc650/assignments/assignment06/results\n",
    "# directory. If you are using JupyterHub, you can include\n",
    "# those plots in your Jupyter notebook."
   ]
  },
  {
   "cell_type": "code",
   "execution_count": 2,
   "metadata": {},
   "outputs": [],
   "source": [
    "from tensorflow.keras.datasets import cifar10\n",
    "from tensorflow.keras.models import Sequential\n",
    "from tensorflow.keras.layers import Dense, Flatten, Conv2D, MaxPooling2D, Dropout\n",
    "from tensorflow.keras.losses import sparse_categorical_crossentropy\n",
    "from tensorflow.keras.optimizers import Adam\n",
    "from keras.preprocessing.image import ImageDataGenerator\n",
    "import matplotlib.pyplot as plt"
   ]
  },
  {
   "cell_type": "code",
   "execution_count": 3,
   "metadata": {},
   "outputs": [],
   "source": [
    "# ----------| USING CONVNET W/CIFAR10 DATA: W/DROPOUT, AUGMENTATION |----------\n",
    "\n",
    "\n",
    "# Load CIFAR-10 data\n",
    "(input_train, target_train), (input_test, target_test) = cifar10.load_data()"
   ]
  },
  {
   "cell_type": "code",
   "execution_count": 4,
   "metadata": {},
   "outputs": [],
   "source": [
    "# Model configuration\n",
    "batch_size = 50\n",
    "img_width, img_height, img_num_channels = 32, 32, 3\n",
    "loss_function = sparse_categorical_crossentropy\n",
    "no_classes = 10\n",
    "no_epochs = 30\n",
    "optimizer = Adam()\n",
    "validation_split = 0.2\n",
    "verbosity = 1"
   ]
  },
  {
   "cell_type": "code",
   "execution_count": 5,
   "metadata": {},
   "outputs": [],
   "source": [
    "# Determine shape of the data\n",
    "input_shape = (img_width, img_height, img_num_channels)"
   ]
  },
  {
   "cell_type": "code",
   "execution_count": 6,
   "metadata": {},
   "outputs": [],
   "source": [
    "# Parse numbers as floats\n",
    "input_train = input_train.astype('float32')\n",
    "input_test = input_test.astype('float32')"
   ]
  },
  {
   "cell_type": "code",
   "execution_count": 7,
   "metadata": {},
   "outputs": [],
   "source": [
    "# Normalize data\n",
    "input_train = input_train / 255\n",
    "input_test = input_test / 255"
   ]
  },
  {
   "cell_type": "code",
   "execution_count": 8,
   "metadata": {},
   "outputs": [],
   "source": [
    "# Create the model\n",
    "model = Sequential()\n",
    "model.add(Conv2D(32, kernel_size=(3, 3), activation='relu', input_shape=input_shape))\n",
    "model.add(MaxPooling2D(pool_size=(2, 2)))\n",
    "model.add(Conv2D(64, kernel_size=(3, 3), activation='relu'))\n",
    "model.add(MaxPooling2D(pool_size=(2, 2)))\n",
    "model.add(Conv2D(128, kernel_size=(3, 3), activation='relu'))\n",
    "model.add(MaxPooling2D(pool_size=(2, 2)))\n",
    "model.add(Flatten())\n",
    "model.add(Dropout(0.5))   # Adding Dropout\n",
    "model.add(Dense(256, activation='relu'))\n",
    "model.add(Dense(128, activation='relu'))\n",
    "model.add(Dense(no_classes, activation='softmax'))"
   ]
  },
  {
   "cell_type": "code",
   "execution_count": 9,
   "metadata": {},
   "outputs": [],
   "source": [
    "# Data augmentation\n",
    "# create data generator\n",
    "datagen = ImageDataGenerator(\n",
    "\twidth_shift_range=0.1,\n",
    "\theight_shift_range=0.1,\n",
    "\thorizontal_flip=True)\n",
    "# prepare iterator\n",
    "it_train = datagen.flow(input_train, target_train, batch_size=64)"
   ]
  },
  {
   "cell_type": "code",
   "execution_count": 10,
   "metadata": {},
   "outputs": [],
   "source": [
    "# Compile the model\n",
    "model.compile(loss=loss_function,\n",
    "              optimizer=optimizer,\n",
    "              metrics=['accuracy'])"
   ]
  },
  {
   "cell_type": "code",
   "execution_count": 11,
   "metadata": {},
   "outputs": [
    {
     "name": "stdout",
     "output_type": "stream",
     "text": [
      "WARNING:tensorflow:From <ipython-input-11-c107809ff549>:2: Model.fit_generator (from tensorflow.python.keras.engine.training) is deprecated and will be removed in a future version.\n",
      "Instructions for updating:\n",
      "Please use Model.fit, which supports generators.\n",
      "Epoch 1/30\n",
      "782/782 [==============================] - 34s 44ms/step - loss: 1.7387 - accuracy: 0.0899 - val_loss: 1.3563 - val_accuracy: 0.0811\n",
      "Epoch 2/30\n",
      "782/782 [==============================] - 34s 44ms/step - loss: 1.4122 - accuracy: 0.0918 - val_loss: 1.2022 - val_accuracy: 0.0676\n",
      "Epoch 3/30\n",
      "782/782 [==============================] - 34s 43ms/step - loss: 1.2940 - accuracy: 0.0931 - val_loss: 1.0723 - val_accuracy: 0.0770\n",
      "Epoch 4/30\n",
      "782/782 [==============================] - 34s 44ms/step - loss: 1.2115 - accuracy: 0.0957 - val_loss: 1.0496 - val_accuracy: 0.0755\n",
      "Epoch 5/30\n",
      "782/782 [==============================] - 34s 43ms/step - loss: 1.1503 - accuracy: 0.0980 - val_loss: 0.9945 - val_accuracy: 0.1222\n",
      "Epoch 6/30\n",
      "782/782 [==============================] - 34s 44ms/step - loss: 1.0965 - accuracy: 0.0983 - val_loss: 1.0076 - val_accuracy: 0.0688\n",
      "Epoch 7/30\n",
      "782/782 [==============================] - 34s 43ms/step - loss: 1.0773 - accuracy: 0.0969 - val_loss: 0.9051 - val_accuracy: 0.1179\n",
      "Epoch 8/30\n",
      "782/782 [==============================] - 34s 44ms/step - loss: 1.0442 - accuracy: 0.0986 - val_loss: 0.8838 - val_accuracy: 0.1140\n",
      "Epoch 9/30\n",
      "782/782 [==============================] - 34s 44ms/step - loss: 1.0207 - accuracy: 0.0997 - val_loss: 0.8806 - val_accuracy: 0.1027\n",
      "Epoch 10/30\n",
      "782/782 [==============================] - 34s 44ms/step - loss: 0.9962 - accuracy: 0.0988 - val_loss: 0.9049 - val_accuracy: 0.0896\n",
      "Epoch 11/30\n",
      "782/782 [==============================] - 34s 44ms/step - loss: 0.9821 - accuracy: 0.1001 - val_loss: 0.8881 - val_accuracy: 0.0783\n",
      "Epoch 12/30\n",
      "782/782 [==============================] - 34s 43ms/step - loss: 0.9633 - accuracy: 0.0996 - val_loss: 0.8486 - val_accuracy: 0.0957\n",
      "Epoch 13/30\n",
      "782/782 [==============================] - 34s 44ms/step - loss: 0.9507 - accuracy: 0.0998 - val_loss: 0.7935 - val_accuracy: 0.0936\n",
      "Epoch 14/30\n",
      "782/782 [==============================] - 34s 44ms/step - loss: 0.9323 - accuracy: 0.1006 - val_loss: 0.8571 - val_accuracy: 0.0902\n",
      "Epoch 15/30\n",
      "782/782 [==============================] - 34s 44ms/step - loss: 0.9209 - accuracy: 0.1008 - val_loss: 0.7756 - val_accuracy: 0.0903\n",
      "Epoch 16/30\n",
      "782/782 [==============================] - 34s 43ms/step - loss: 0.9141 - accuracy: 0.1000 - val_loss: 0.7424 - val_accuracy: 0.0983\n",
      "Epoch 17/30\n",
      "782/782 [==============================] - 35s 44ms/step - loss: 0.9048 - accuracy: 0.1016 - val_loss: 0.7546 - val_accuracy: 0.1129\n",
      "Epoch 18/30\n",
      "782/782 [==============================] - 34s 43ms/step - loss: 0.8967 - accuracy: 0.1009 - val_loss: 0.7667 - val_accuracy: 0.1095\n",
      "Epoch 19/30\n",
      "782/782 [==============================] - 34s 44ms/step - loss: 0.8817 - accuracy: 0.1004 - val_loss: 0.7375 - val_accuracy: 0.1003\n",
      "Epoch 20/30\n",
      "782/782 [==============================] - 34s 44ms/step - loss: 0.8689 - accuracy: 0.1019 - val_loss: 0.7554 - val_accuracy: 0.0909\n",
      "Epoch 21/30\n",
      "782/782 [==============================] - 34s 44ms/step - loss: 0.8663 - accuracy: 0.1010 - val_loss: 0.7238 - val_accuracy: 0.1060\n",
      "Epoch 22/30\n",
      "782/782 [==============================] - 34s 44ms/step - loss: 0.8635 - accuracy: 0.1004 - val_loss: 0.7578 - val_accuracy: 0.0960\n",
      "Epoch 23/30\n",
      "782/782 [==============================] - 34s 44ms/step - loss: 0.8557 - accuracy: 0.1018 - val_loss: 0.6945 - val_accuracy: 0.0994\n",
      "Epoch 24/30\n",
      "782/782 [==============================] - 34s 44ms/step - loss: 0.8541 - accuracy: 0.1010 - val_loss: 0.7275 - val_accuracy: 0.1130\n",
      "Epoch 25/30\n",
      "782/782 [==============================] - 34s 43ms/step - loss: 0.8444 - accuracy: 0.1015 - val_loss: 0.7062 - val_accuracy: 0.1049\n",
      "Epoch 26/30\n",
      "782/782 [==============================] - 34s 44ms/step - loss: 0.8399 - accuracy: 0.1011 - val_loss: 0.7145 - val_accuracy: 0.1034\n",
      "Epoch 27/30\n",
      "782/782 [==============================] - 34s 44ms/step - loss: 0.8339 - accuracy: 0.1017 - val_loss: 0.6755 - val_accuracy: 0.1016\n",
      "Epoch 28/30\n",
      "782/782 [==============================] - 34s 44ms/step - loss: 0.8301 - accuracy: 0.1019 - val_loss: 0.7447 - val_accuracy: 0.1014\n",
      "Epoch 29/30\n",
      "782/782 [==============================] - 34s 44ms/step - loss: 0.8158 - accuracy: 0.1017 - val_loss: 0.6782 - val_accuracy: 0.0902\n",
      "Epoch 30/30\n",
      "782/782 [==============================] - 34s 44ms/step - loss: 0.8138 - accuracy: 0.1015 - val_loss: 0.6947 - val_accuracy: 0.0971\n"
     ]
    }
   ],
   "source": [
    "# Fit data to model\n",
    "history = model.fit_generator(it_train,\n",
    "\tepochs=no_epochs,\n",
    "\tverbose=verbosity,\n",
    "\tvalidation_data=(input_test, target_test))"
   ]
  },
  {
   "cell_type": "code",
   "execution_count": 12,
   "metadata": {},
   "outputs": [
    {
     "name": "stdout",
     "output_type": "stream",
     "text": [
      "Test loss: 0.6946734189987183 / Test accuracy: 0.09709999710321426\n"
     ]
    }
   ],
   "source": [
    "# Generate generalization metrics\n",
    "score = model.evaluate(input_test, target_test, verbose=0)\n",
    "print(f'Test loss: {score[0]} / Test accuracy: {score[1]}')"
   ]
  },
  {
   "cell_type": "code",
   "execution_count": 13,
   "metadata": {},
   "outputs": [
    {
     "data": {
      "image/png": "[encoded data removed]",
      "text/plain": [
       "<Figure size 432x288 with 1 Axes>"
      ]
     },
     "metadata": {
      "needs_background": "light"
     },
     "output_type": "display_data"
    }
   ],
   "source": [
    "# plot accuracy\n",
    "plt.title('Training and Validation Accuracy')\n",
    "plt.plot(history.history['accuracy'], color='blue', label='Training accuracy')\n",
    "plt.plot(history.history['val_accuracy'], color='orange', label='Validation accuracy')\n",
    "plt.legend()\n",
    "plt.show()"
   ]
  },
  {
   "cell_type": "code",
   "execution_count": 14,
   "metadata": {},
   "outputs": [
    {
     "data": {
      "image/png": "[encoded data removed]",
      "text/plain": [
       "<Figure size 432x288 with 1 Axes>"
      ]
     },
     "metadata": {
      "needs_background": "light"
     },
     "output_type": "display_data"
    }
   ],
   "source": [
    "# plot loss\n",
    "plt.title('Training and Validation Loss')\n",
    "plt.plot(history.history['loss'], color='blue', label='Training loss')\n",
    "plt.plot(history.history['val_loss'], color='orange', label='Validation loss')\n",
    "plt.legend()\n",
    "plt.show()"
   ]
  },
  {
   "cell_type": "code",
   "execution_count": null,
   "metadata": {},
   "outputs": [],
   "source": []
  }
 ],
 "metadata": {
  "kernelspec": {
   "display_name": "Python 3",
   "language": "python",
   "name": "python3"
  },
  "language_info": {
   "codemirror_mode": {
    "name": "ipython",
    "version": 3
   },
   "file_extension": ".py",
   "mimetype": "text/x-python",
   "name": "python",
   "nbconvert_exporter": "python",
   "pygments_lexer": "ipython3",
   "version": "3.8.3"
  }
 },
 "nbformat": 4,
 "nbformat_minor": 4
}
